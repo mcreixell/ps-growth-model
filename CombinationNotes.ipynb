{
  "cells": [
    {
      "cell_type": "markdown",
      "source": [
        "# Notes on Synergy\n",
        "\n\n",
        "Lowe synergy follows:\n",
        "\n",
        "$$1 = \\frac{D_1}{f_1^{-1}\\left(\\mathbf{y}\\right)} + \\frac{D_2}{f_2^{-1}\\left(\\mathbf{y}\\right)}$$\n",
        "\n",
        "where $D_1$ and $D_2$ are the concentration of each compound, respectively. $\\mathbf{y}$ is the effect at the combination point being considered.\n",
        "\n",
        "For $D_2 \\to 0$, this reduces to $D_1 = f_1^{-1}(\\mathbf{y})$, or $f_1(D_1) = \\mathbf{y}$, so this recovers the single dose response relationship.\n",
        "\n",
        "For the multivariate case, we should be able to just treat $\\mathbf{y}$ identically with each variable packed in as a vector. We should deal with the dose response relationship of each rate quantity (e.g. div, deathrate), rather than a measurement (e.g. number of cells).\n"
      ],
      "metadata": {}
    },
    {
      "cell_type": "markdown",
      "source": [
        "We might as well make $\\mathbf{y}$ a 5PL of the single dose response, since we can computationally deal with the uncertainty."
      ],
      "metadata": {}
    },
    {
      "cell_type": "markdown",
      "source": [],
      "metadata": {}
    }
  ],
  "metadata": {
    "kernel_info": {
      "name": "python3"
    },
    "kernelspec": {
      "name": "python3",
      "language": "python",
      "display_name": "Python 3"
    },
    "language_info": {
      "codemirror_mode": {
        "name": "ipython",
        "version": 3
      },
      "file_extension": ".py",
      "mimetype": "text/x-python",
      "name": "python",
      "nbconvert_exporter": "python",
      "pygments_lexer": "ipython3",
      "version": "3.6.3"
    },
    "nteract": {
      "version": "0.3.4"
    }
  },
  "nbformat": 4,
  "nbformat_minor": 4
}